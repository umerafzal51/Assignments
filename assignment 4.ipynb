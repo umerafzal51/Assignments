{
 "cells": [
  {
   "cell_type": "code",
   "execution_count": 1,
   "metadata": {},
   "outputs": [
    {
     "name": "stdout",
     "output_type": "stream",
     "text": [
      "Alice in Wonderland is one of my favorite books.\n"
     ]
    }
   ],
   "source": [
    "def favorite_book(title):\n",
    "  \n",
    "    print(title + \" is one of my favorite books.\")\n",
    "\n",
    "favorite_book(\"Alice in Wonderland\")"
   ]
  },
  {
   "cell_type": "code",
   "execution_count": null,
   "metadata": {},
   "outputs": [
    {
     "name": "stdout",
     "output_type": "stream",
     "text": [
      "Guess a number (<100): 56\n",
      "Smaller...\n",
      "Guess a number (<100): 34\n",
      "Greater...\n",
      "Guess a number (<100): 33\n",
      "Greater...\n",
      "Guess a number (<100): 32\n",
      "Greater...\n",
      "Guess a number (<100): 89\n",
      "Smaller...\n"
     ]
    }
   ],
   "source": [
    "import random\n",
    "secret_number = random.randint(1, 100)\n",
    "tries, guess = 0, 0\n",
    "while guess != secret_number:\n",
    "    guess = int(input(\"Guess a number (<100): \"))\n",
    "    if guess > secret_number:\n",
    "        print(\"Smaller...\")\n",
    "    elif guess < secret_number:\n",
    "        print(\"Greater...\")\n",
    "    tries += 1\n",
    " \n",
    "print('You guessed it! The number was {} in {} tries'.format(guess, tries))"
   ]
  },
  {
   "cell_type": "code",
   "execution_count": null,
   "metadata": {},
   "outputs": [],
   "source": [
    "prompt = \"How old are you?\"\n",
    "prompt += \"\\nEnter 'quit' when you are finished. \"\n",
    "\n",
    "while True:\n",
    "    age = input(prompt)\n",
    "    if age == 'quit':\n",
    "        break\n",
    "    age = int(age)\n",
    "\n",
    "    if age < 3:\n",
    "        print(\"  You get in free!\")\n",
    "    elif age < 13:\n",
    "        print(\"  Your ticket is $10.\")\n",
    "    else:\n",
    "        print(\"  Your ticket is $15.\")"
   ]
  },
  {
   "cell_type": "code",
   "execution_count": null,
   "metadata": {},
   "outputs": [],
   "source": [
    "cities = {\n",
    "    'karachi': {\n",
    "        'country': 'pakistan',\n",
    "        'population': 16620000,\n",
    "        'nearby rivers': 'indus',\n",
    "        },\n",
    "    'kabul': {\n",
    "        'country': 'afghanistan',\n",
    "        'population': 35300000,\n",
    "        'nearby rivers': 'kabul',\n",
    "        },\n",
    "    'bangkok': {\n",
    "        'country': 'thailand',\n",
    "        'population': 69658986 ,\n",
    "        'nearby rivers': 'kwai',\n",
    "        }\n",
    "    }\n",
    "\n",
    "for city, city_info in cities.items():\n",
    "    country = city_info['country'].title()\n",
    "    population = city_info['population']\n",
    "    rivers = city_info['nearby rivers'].title()\n",
    "\n",
    "    print(\"\\n\" + city.title() + \" is in \" + country + \".\")\n",
    "    print(\"  It has a population of about \" + str(population) + \".\")\n",
    "    print(\"  The \" + rivers + \" rivers are nearby.\")"
   ]
  },
  {
   "cell_type": "code",
   "execution_count": null,
   "metadata": {},
   "outputs": [],
   "source": [
    "person = {\n",
    "    'first_name': 'ahmed',\n",
    "    'last_name': 'umer',\n",
    "    'age': 30,\n",
    "    'city': 'karachi',\n",
    "    'qualification':'graduation'\n",
    "    }\n",
    "print(person['first_name'])\n",
    "print(person['last_name'])\n",
    "print(person['age'])\n",
    "print(person['city'])\n",
    "print(person['qualification'])"
   ]
  },
  {
   "cell_type": "code",
   "execution_count": null,
   "metadata": {},
   "outputs": [],
   "source": []
  }
 ],
 "metadata": {
  "kernelspec": {
   "display_name": "Python 3",
   "language": "python",
   "name": "python3"
  },
  "language_info": {
   "codemirror_mode": {
    "name": "ipython",
    "version": 3
   },
   "file_extension": ".py",
   "mimetype": "text/x-python",
   "name": "python",
   "nbconvert_exporter": "python",
   "pygments_lexer": "ipython3",
   "version": "3.7.4"
  }
 },
 "nbformat": 4,
 "nbformat_minor": 2
}
