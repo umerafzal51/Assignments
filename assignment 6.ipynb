{
 "cells": [
  {
   "cell_type": "markdown",
   "metadata": {},
   "source": [
    "### Object Oriented programming is a programming style which is associated with the concepts like class, object, Inheritance, Encapsulation, Abstraction, Polymorphism"
   ]
  },
  {
   "cell_type": "markdown",
   "metadata": {},
   "source": [
    "# Benefits of Object Oriented Programming\n",
    "\n",
    "### Modularity for easier troubleshooting\n",
    "### Reuse of code through inheritance\n",
    "### Flexibility through polymorphism\n",
    "### Effective problem solving"
   ]
  },
  {
   "cell_type": "markdown",
   "metadata": {},
   "source": [
    "### Function is a piece of code that is called by name. It can be passed data to operate on (i.e. the parameters) and can optionally return data (the return value).  A method is a piece of code that is called by a name that is associated with an object"
   ]
  },
  {
   "cell_type": "markdown",
   "metadata": {},
   "source": [
    "# Classes:\n",
    "### Classes are templates. They help you standardize and organize information\n",
    "\n",
    "# Object:\n",
    "### Object is simply a collection of data (variables) and methods (functions)\n",
    "\n",
    "# Attribute:\n",
    "### Attributes belong to the class itself they will be shared by all the instances\n",
    "\n",
    "# Behavior:\n",
    "### Behavior means how different object performs different actions "
   ]
  },
  {
   "cell_type": "markdown",
   "metadata": {},
   "source": []
  },
  {
   "cell_type": "code",
   "execution_count": 17,
   "metadata": {},
   "outputs": [
    {
     "name": "stdout",
     "output_type": "stream",
     "text": [
      "Parius\n",
      "Black\n",
      "2018\n",
      "80\n"
     ]
    }
   ],
   "source": [
    "class Car():\n",
    "    def __init__(self,name,color,model,size):\n",
    "        self.name = name\n",
    "        self.color = color\n",
    "        self.model = model\n",
    "        self.size = 80\n",
    "        \n",
    "\n",
    "E2 = Car(\"Parius\", \"Black\", \"2018\", 80)\n",
    "print(E2.name)\n",
    "print(E2.color)\n",
    "print(E2.model)\n",
    "print(E2.size)\n"
   ]
  },
  {
   "cell_type": "code",
   "execution_count": null,
   "metadata": {},
   "outputs": [],
   "source": []
  },
  {
   "cell_type": "code",
   "execution_count": null,
   "metadata": {},
   "outputs": [],
   "source": []
  }
 ],
 "metadata": {
  "kernelspec": {
   "display_name": "Python 3",
   "language": "python",
   "name": "python3"
  },
  "language_info": {
   "codemirror_mode": {
    "name": "ipython",
    "version": 3
   },
   "file_extension": ".py",
   "mimetype": "text/x-python",
   "name": "python",
   "nbconvert_exporter": "python",
   "pygments_lexer": "ipython3",
   "version": "3.7.4"
  }
 },
 "nbformat": 4,
 "nbformat_minor": 2
}
